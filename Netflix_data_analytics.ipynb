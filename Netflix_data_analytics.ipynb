{
 "cells": [
  {
   "cell_type": "markdown",
   "id": "c53bba6a",
   "metadata": {},
   "source": [
    "# Netflix movies and TV shows EDA"
   ]
  },
  {
   "cell_type": "markdown",
   "id": "f7af5bef",
   "metadata": {},
   "source": [
    "## About Data\n",
    "\n",
    "Show_ID-Id of the movie/TV show\n",
    "\n",
    "type-Movie or TV show\n",
    "\n",
    "title-Title of the movie/TV show\n",
    "\n",
    "director-Director of the movie/TV show\n",
    "\n",
    "Cast-actors/actress who have acted in the movie/TV show\n",
    "\n",
    "country-Country the movie/TV show belongs to\n",
    "\n",
    "date_added-Aired dated-Released date on netflix\n",
    "\n",
    "release year-Original movie/TV show release date\n",
    "\n",
    "rating-Rating of the movie/TV show\n",
    "\n",
    "duration-Length of the movie\n",
    "\n",
    "genre-Genre of the movie\n",
    "\n",
    "Description-Summary of the movie"
   ]
  },
  {
   "cell_type": "markdown",
   "id": "ff8cd1fe",
   "metadata": {},
   "source": [
    "## Workflow\n",
    "* Understanding of data\n",
    "* Data cleaning\n",
    "* Exploratory Data Analysis\n",
    "* Insights"
   ]
  },
  {
   "cell_type": "markdown",
   "id": "8ad19839",
   "metadata": {},
   "source": [
    "### Reading and understanding of the data"
   ]
  },
  {
   "cell_type": "markdown",
   "id": "396cfc5a",
   "metadata": {},
   "source": [
    "<font size='3'> Importing libraries, setting Seaborn graphs view and reading the data </font>"
   ]
  },
  {
   "cell_type": "code",
   "execution_count": 3,
   "id": "f4c30f07",
   "metadata": {},
   "outputs": [],
   "source": [
    "import pandas as pd\n",
    "import numpy as np\n",
    "import seaborn as sns\n",
    "import matplotlib.pyplot as plt\n",
    "%matplotlib inline"
   ]
  },
  {
   "cell_type": "code",
   "execution_count": 2,
   "id": "1c58a581",
   "metadata": {},
   "outputs": [],
   "source": [
    "sns.set(                          # .set - customing default plot\n",
    "    font_scale=1,                 # Font size\n",
    "    style = 'whitegrid',          # Graphic view\n",
    "    rc={'figure.figsize':(20,7)}  # Size of the graphic\n",
    ")"
   ]
  },
  {
   "cell_type": "code",
   "execution_count": 4,
   "id": "f438e3d0",
   "metadata": {},
   "outputs": [],
   "source": [
    "netflix = pd.read_csv('/Users/sofagogoleva/Data_Analytics/NetFlix.csv')"
   ]
  },
  {
   "cell_type": "code",
   "execution_count": 58,
   "id": "fed70ac6",
   "metadata": {
    "scrolled": false
   },
   "outputs": [
    {
     "data": {
      "text/html": [
       "<div>\n",
       "<style scoped>\n",
       "    .dataframe tbody tr th:only-of-type {\n",
       "        vertical-align: middle;\n",
       "    }\n",
       "\n",
       "    .dataframe tbody tr th {\n",
       "        vertical-align: top;\n",
       "    }\n",
       "\n",
       "    .dataframe thead th {\n",
       "        text-align: right;\n",
       "    }\n",
       "</style>\n",
       "<table border=\"1\" class=\"dataframe\">\n",
       "  <thead>\n",
       "    <tr style=\"text-align: right;\">\n",
       "      <th></th>\n",
       "      <th>show_id</th>\n",
       "      <th>type</th>\n",
       "      <th>title</th>\n",
       "      <th>director</th>\n",
       "      <th>cast</th>\n",
       "      <th>country</th>\n",
       "      <th>date_added</th>\n",
       "      <th>release_year</th>\n",
       "      <th>rating</th>\n",
       "      <th>duration</th>\n",
       "      <th>genres</th>\n",
       "      <th>description</th>\n",
       "    </tr>\n",
       "  </thead>\n",
       "  <tbody>\n",
       "    <tr>\n",
       "      <th>0</th>\n",
       "      <td>s1</td>\n",
       "      <td>TV Show</td>\n",
       "      <td>3%</td>\n",
       "      <td>NaN</td>\n",
       "      <td>João Miguel, Bianca Comparato, Michel Gomes, R...</td>\n",
       "      <td>Brazil</td>\n",
       "      <td>2020-08-14</td>\n",
       "      <td>2020</td>\n",
       "      <td>TV-MA</td>\n",
       "      <td>4</td>\n",
       "      <td>International TV Shows, TV Dramas, TV Sci-Fi &amp;...</td>\n",
       "      <td>In a future where the elite inhabit an island ...</td>\n",
       "    </tr>\n",
       "    <tr>\n",
       "      <th>1</th>\n",
       "      <td>s10</td>\n",
       "      <td>Movie</td>\n",
       "      <td>1920</td>\n",
       "      <td>Vikram Bhatt</td>\n",
       "      <td>Rajneesh Duggal, Adah Sharma, Indraneil Sengup...</td>\n",
       "      <td>India</td>\n",
       "      <td>2017-12-15</td>\n",
       "      <td>2008</td>\n",
       "      <td>TV-MA</td>\n",
       "      <td>143</td>\n",
       "      <td>Horror Movies, International Movies, Thrillers</td>\n",
       "      <td>An architect and his wife move into a castle t...</td>\n",
       "    </tr>\n",
       "    <tr>\n",
       "      <th>2</th>\n",
       "      <td>s100</td>\n",
       "      <td>Movie</td>\n",
       "      <td>3 Heroines</td>\n",
       "      <td>Iman Brotoseno</td>\n",
       "      <td>Reza Rahadian, Bunga Citra Lestari, Tara Basro...</td>\n",
       "      <td>Indonesia</td>\n",
       "      <td>2019-01-05</td>\n",
       "      <td>2016</td>\n",
       "      <td>TV-PG</td>\n",
       "      <td>124</td>\n",
       "      <td>Dramas, International Movies, Sports Movies</td>\n",
       "      <td>Three Indonesian women break records by becomi...</td>\n",
       "    </tr>\n",
       "    <tr>\n",
       "      <th>3</th>\n",
       "      <td>s1000</td>\n",
       "      <td>Movie</td>\n",
       "      <td>Blue Mountain State: The Rise of Thadland</td>\n",
       "      <td>Lev L. Spiro</td>\n",
       "      <td>Alan Ritchson, Darin Brooks, James Cade, Rob R...</td>\n",
       "      <td>United States</td>\n",
       "      <td>2016-03-01</td>\n",
       "      <td>2016</td>\n",
       "      <td>R</td>\n",
       "      <td>90</td>\n",
       "      <td>Comedies</td>\n",
       "      <td>New NFL star Thad buys his old teammates' belo...</td>\n",
       "    </tr>\n",
       "    <tr>\n",
       "      <th>4</th>\n",
       "      <td>s1001</td>\n",
       "      <td>TV Show</td>\n",
       "      <td>Blue Planet II</td>\n",
       "      <td>NaN</td>\n",
       "      <td>David Attenborough</td>\n",
       "      <td>United Kingdom</td>\n",
       "      <td>2018-12-03</td>\n",
       "      <td>2017</td>\n",
       "      <td>TV-G</td>\n",
       "      <td>1</td>\n",
       "      <td>British TV Shows, Docuseries, Science &amp; Nature TV</td>\n",
       "      <td>This sequel to the award-winning nature series...</td>\n",
       "    </tr>\n",
       "    <tr>\n",
       "      <th>...</th>\n",
       "      <td>...</td>\n",
       "      <td>...</td>\n",
       "      <td>...</td>\n",
       "      <td>...</td>\n",
       "      <td>...</td>\n",
       "      <td>...</td>\n",
       "      <td>...</td>\n",
       "      <td>...</td>\n",
       "      <td>...</td>\n",
       "      <td>...</td>\n",
       "      <td>...</td>\n",
       "      <td>...</td>\n",
       "    </tr>\n",
       "    <tr>\n",
       "      <th>7782</th>\n",
       "      <td>s995</td>\n",
       "      <td>TV Show</td>\n",
       "      <td>Blown Away</td>\n",
       "      <td>NaN</td>\n",
       "      <td>NaN</td>\n",
       "      <td>Canada</td>\n",
       "      <td>2019-07-12</td>\n",
       "      <td>2019</td>\n",
       "      <td>TV-14</td>\n",
       "      <td>1</td>\n",
       "      <td>International TV Shows, Reality TV</td>\n",
       "      <td>Ten master artists turn up the heat in glassbl...</td>\n",
       "    </tr>\n",
       "    <tr>\n",
       "      <th>7783</th>\n",
       "      <td>s996</td>\n",
       "      <td>TV Show</td>\n",
       "      <td>Blue Exorcist</td>\n",
       "      <td>NaN</td>\n",
       "      <td>Nobuhiko Okamoto, Jun Fukuyama, Kana Hanazawa,...</td>\n",
       "      <td>Japan</td>\n",
       "      <td>2020-09-01</td>\n",
       "      <td>2017</td>\n",
       "      <td>TV-MA</td>\n",
       "      <td>2</td>\n",
       "      <td>Anime Series, International TV Shows</td>\n",
       "      <td>Determined to throw off the curse of being Sat...</td>\n",
       "    </tr>\n",
       "    <tr>\n",
       "      <th>7784</th>\n",
       "      <td>s997</td>\n",
       "      <td>Movie</td>\n",
       "      <td>Blue Is the Warmest Color</td>\n",
       "      <td>Abdellatif Kechiche</td>\n",
       "      <td>Léa Seydoux, Adèle Exarchopoulos, Salim Kechio...</td>\n",
       "      <td>France, Belgium, Spain</td>\n",
       "      <td>2016-08-26</td>\n",
       "      <td>2013</td>\n",
       "      <td>NC-17</td>\n",
       "      <td>180</td>\n",
       "      <td>Dramas, Independent Movies, International Movies</td>\n",
       "      <td>Determined to fall in love, 15-year-old Adele ...</td>\n",
       "    </tr>\n",
       "    <tr>\n",
       "      <th>7785</th>\n",
       "      <td>s998</td>\n",
       "      <td>Movie</td>\n",
       "      <td>Blue Jasmine</td>\n",
       "      <td>Woody Allen</td>\n",
       "      <td>Cate Blanchett, Sally Hawkins, Alec Baldwin, L...</td>\n",
       "      <td>United States</td>\n",
       "      <td>2019-03-08</td>\n",
       "      <td>2013</td>\n",
       "      <td>PG-13</td>\n",
       "      <td>98</td>\n",
       "      <td>Comedies, Dramas, Independent Movies</td>\n",
       "      <td>The high life leads to high anxiety for a fash...</td>\n",
       "    </tr>\n",
       "    <tr>\n",
       "      <th>7786</th>\n",
       "      <td>s999</td>\n",
       "      <td>Movie</td>\n",
       "      <td>Blue Jay</td>\n",
       "      <td>Alex Lehmann</td>\n",
       "      <td>Sarah Paulson, Mark Duplass, Clu Gulager</td>\n",
       "      <td>United States</td>\n",
       "      <td>2016-12-06</td>\n",
       "      <td>2016</td>\n",
       "      <td>TV-MA</td>\n",
       "      <td>81</td>\n",
       "      <td>Dramas, Independent Movies, Romantic Movies</td>\n",
       "      <td>Two former high school sweethearts unexpectedl...</td>\n",
       "    </tr>\n",
       "  </tbody>\n",
       "</table>\n",
       "<p>7787 rows × 12 columns</p>\n",
       "</div>"
      ],
      "text/plain": [
       "     show_id     type                                      title  \\\n",
       "0         s1  TV Show                                         3%   \n",
       "1        s10    Movie                                       1920   \n",
       "2       s100    Movie                                 3 Heroines   \n",
       "3      s1000    Movie  Blue Mountain State: The Rise of Thadland   \n",
       "4      s1001  TV Show                             Blue Planet II   \n",
       "...      ...      ...                                        ...   \n",
       "7782    s995  TV Show                                 Blown Away   \n",
       "7783    s996  TV Show                              Blue Exorcist   \n",
       "7784    s997    Movie                  Blue Is the Warmest Color   \n",
       "7785    s998    Movie                               Blue Jasmine   \n",
       "7786    s999    Movie                                   Blue Jay   \n",
       "\n",
       "                 director                                               cast  \\\n",
       "0                     NaN  João Miguel, Bianca Comparato, Michel Gomes, R...   \n",
       "1            Vikram Bhatt  Rajneesh Duggal, Adah Sharma, Indraneil Sengup...   \n",
       "2          Iman Brotoseno  Reza Rahadian, Bunga Citra Lestari, Tara Basro...   \n",
       "3            Lev L. Spiro  Alan Ritchson, Darin Brooks, James Cade, Rob R...   \n",
       "4                     NaN                                 David Attenborough   \n",
       "...                   ...                                                ...   \n",
       "7782                  NaN                                                NaN   \n",
       "7783                  NaN  Nobuhiko Okamoto, Jun Fukuyama, Kana Hanazawa,...   \n",
       "7784  Abdellatif Kechiche  Léa Seydoux, Adèle Exarchopoulos, Salim Kechio...   \n",
       "7785          Woody Allen  Cate Blanchett, Sally Hawkins, Alec Baldwin, L...   \n",
       "7786         Alex Lehmann           Sarah Paulson, Mark Duplass, Clu Gulager   \n",
       "\n",
       "                     country date_added  release_year rating  duration  \\\n",
       "0                     Brazil 2020-08-14          2020  TV-MA         4   \n",
       "1                      India 2017-12-15          2008  TV-MA       143   \n",
       "2                  Indonesia 2019-01-05          2016  TV-PG       124   \n",
       "3              United States 2016-03-01          2016      R        90   \n",
       "4             United Kingdom 2018-12-03          2017   TV-G         1   \n",
       "...                      ...        ...           ...    ...       ...   \n",
       "7782                  Canada 2019-07-12          2019  TV-14         1   \n",
       "7783                   Japan 2020-09-01          2017  TV-MA         2   \n",
       "7784  France, Belgium, Spain 2016-08-26          2013  NC-17       180   \n",
       "7785           United States 2019-03-08          2013  PG-13        98   \n",
       "7786           United States 2016-12-06          2016  TV-MA        81   \n",
       "\n",
       "                                                 genres  \\\n",
       "0     International TV Shows, TV Dramas, TV Sci-Fi &...   \n",
       "1        Horror Movies, International Movies, Thrillers   \n",
       "2           Dramas, International Movies, Sports Movies   \n",
       "3                                              Comedies   \n",
       "4     British TV Shows, Docuseries, Science & Nature TV   \n",
       "...                                                 ...   \n",
       "7782                 International TV Shows, Reality TV   \n",
       "7783               Anime Series, International TV Shows   \n",
       "7784   Dramas, Independent Movies, International Movies   \n",
       "7785               Comedies, Dramas, Independent Movies   \n",
       "7786        Dramas, Independent Movies, Romantic Movies   \n",
       "\n",
       "                                            description  \n",
       "0     In a future where the elite inhabit an island ...  \n",
       "1     An architect and his wife move into a castle t...  \n",
       "2     Three Indonesian women break records by becomi...  \n",
       "3     New NFL star Thad buys his old teammates' belo...  \n",
       "4     This sequel to the award-winning nature series...  \n",
       "...                                                 ...  \n",
       "7782  Ten master artists turn up the heat in glassbl...  \n",
       "7783  Determined to throw off the curse of being Sat...  \n",
       "7784  Determined to fall in love, 15-year-old Adele ...  \n",
       "7785  The high life leads to high anxiety for a fash...  \n",
       "7786  Two former high school sweethearts unexpectedl...  \n",
       "\n",
       "[7787 rows x 12 columns]"
      ]
     },
     "execution_count": 58,
     "metadata": {},
     "output_type": "execute_result"
    }
   ],
   "source": [
    "netflix"
   ]
  },
  {
   "cell_type": "code",
   "execution_count": 8,
   "id": "4def649f",
   "metadata": {
    "scrolled": true
   },
   "outputs": [
    {
     "data": {
      "text/plain": [
       "(7787, 12)"
      ]
     },
     "execution_count": 8,
     "metadata": {},
     "output_type": "execute_result"
    }
   ],
   "source": [
    "netflix.shape # Dataframe size"
   ]
  },
  {
   "cell_type": "code",
   "execution_count": 111,
   "id": "53a0ceb4",
   "metadata": {},
   "outputs": [
    {
     "data": {
      "text/plain": [
       "Index(['show_id', 'type', 'title', 'director', 'cast', 'country', 'date_added',\n",
       "       'release_year', 'rating', 'duration', 'genres', 'description',\n",
       "       'delta_release_vs_adding'],\n",
       "      dtype='object')"
      ]
     },
     "execution_count": 111,
     "metadata": {},
     "output_type": "execute_result"
    }
   ],
   "source": [
    "netflix.columns # Dataframe columns"
   ]
  },
  {
   "cell_type": "code",
   "execution_count": 12,
   "id": "c8f22353",
   "metadata": {},
   "outputs": [
    {
     "data": {
      "text/plain": [
       "show_id         object\n",
       "type            object\n",
       "title           object\n",
       "director        object\n",
       "cast            object\n",
       "country         object\n",
       "date_added      object\n",
       "release_year     int64\n",
       "rating          object\n",
       "duration         int64\n",
       "genres          object\n",
       "description     object\n",
       "dtype: object"
      ]
     },
     "execution_count": 12,
     "metadata": {},
     "output_type": "execute_result"
    }
   ],
   "source": [
    "netflix.dtypes # Dataframe data types"
   ]
  },
  {
   "cell_type": "code",
   "execution_count": 6,
   "id": "e9c1a882",
   "metadata": {
    "scrolled": false
   },
   "outputs": [
    {
     "data": {
      "text/plain": [
       "show_id            0\n",
       "type               0\n",
       "title              0\n",
       "director        2389\n",
       "cast             718\n",
       "country          507\n",
       "date_added        10\n",
       "release_year       0\n",
       "rating             7\n",
       "duration           0\n",
       "genres             0\n",
       "description        0\n",
       "dtype: int64"
      ]
     },
     "execution_count": 6,
     "metadata": {},
     "output_type": "execute_result"
    }
   ],
   "source": [
    "netflix.isna().sum() # Calculating number of NaN values"
   ]
  },
  {
   "cell_type": "code",
   "execution_count": 20,
   "id": "83d426b0",
   "metadata": {},
   "outputs": [
    {
     "data": {
      "text/plain": [
       "array(['TV-MA', 'TV-PG', 'R', 'TV-G', 'PG-13', 'TV-14', 'TV-Y', 'PG',\n",
       "       'TV-Y7', 'NR', 'G', 'TV-Y7-FV', nan, 'UR', 'NC-17'], dtype=object)"
      ]
     },
     "execution_count": 20,
     "metadata": {},
     "output_type": "execute_result"
    }
   ],
   "source": [
    "netflix.rating.unique() # Rating column unique values"
   ]
  },
  {
   "cell_type": "markdown",
   "id": "80f9b96b",
   "metadata": {},
   "source": [
    "<font size='3'> Getting unique genres in order to sort mvoies and TV shows by unique genre </font>"
   ]
  },
  {
   "cell_type": "markdown",
   "id": "a9322299",
   "metadata": {},
   "source": [
    "*<font size='2.5'> After first code run, few dublicates were found. After inspection, it came up that some words were ended with comma. Added additional condition to avoid dublicates. List len dropped from 53 values to 43 </font>*"
   ]
  },
  {
   "cell_type": "code",
   "execution_count": 358,
   "id": "1ac006cd",
   "metadata": {
    "scrolled": true
   },
   "outputs": [
    {
     "name": "stdout",
     "output_type": "stream",
     "text": [
      "['International', 'TV', 'Sci-Fi', '&', 'Fantasy', 'Horror', 'Thrillers', 'Sports', 'Movies', 'Comedies', 'British', 'Science', 'Nature', 'Independent', 'Action', 'Romantic', 'Documentaries', 'Anime', 'Shows', 'Music', 'Musicals', 'Stand-Up', 'Comedy', \"Kids'\", 'Children', 'Family', 'Classic', 'Docuseries', 'Faith', 'Spirituality', 'Spanish-Language', 'Dramas', 'Reality', 'Crime', 'Adventure', 'Korean', 'LGBTQ', 'Talk', 'Teen', 'Cult', 'Features', 'Mysteries', 'Series'] \n",
      " Count of unique genres: 43\n"
     ]
    }
   ],
   "source": [
    "genre_list = netflix.genres.to_list()\n",
    "unique_genre = []\n",
    "for i in range(len(genre_list)):\n",
    "    temp = genre_list[i].split()\n",
    "    for q in range(len(temp)):\n",
    "        if temp[q].endswith(','):\n",
    "            temp[q].replace(',', '')\n",
    "        elif temp[q] not in unique_genre:\n",
    "            unique_genre.append(temp[q])\n",
    "    \n",
    "print(unique_genre, '\\n', 'Count of unique genres:', len(unique_genre))"
   ]
  },
  {
   "cell_type": "markdown",
   "id": "b9512a7e",
   "metadata": {},
   "source": [
    "### Data cleaning"
   ]
  },
  {
   "cell_type": "code",
   "execution_count": 14,
   "id": "bced4884",
   "metadata": {},
   "outputs": [],
   "source": [
    "netflix['date_added'] = pd.to_datetime(netflix.date_added) # Changing data type for date_added column"
   ]
  },
  {
   "cell_type": "code",
   "execution_count": 112,
   "id": "8c35c28e",
   "metadata": {},
   "outputs": [
    {
     "data": {
      "text/plain": [
       "dtype('<M8[ns]')"
      ]
     },
     "execution_count": 112,
     "metadata": {},
     "output_type": "execute_result"
    }
   ],
   "source": [
    "netflix['date_added'].dtype # Confirming changes"
   ]
  },
  {
   "cell_type": "code",
   "execution_count": 127,
   "id": "a47c09b2",
   "metadata": {},
   "outputs": [],
   "source": [
    "netflix.date_added.fillna(netflix.date_added.median(), inplace=True) # Filling NaN date values to median value"
   ]
  },
  {
   "cell_type": "code",
   "execution_count": 129,
   "id": "9854d10a",
   "metadata": {},
   "outputs": [
    {
     "data": {
      "text/plain": [
       "0"
      ]
     },
     "execution_count": 129,
     "metadata": {},
     "output_type": "execute_result"
    }
   ],
   "source": [
    "netflix.date_added.isna().sum() # Confirming changes"
   ]
  },
  {
   "cell_type": "code",
   "execution_count": 307,
   "id": "f569e9f7",
   "metadata": {},
   "outputs": [],
   "source": [
    "netflix['year'] = netflix.date_added.dt.year            # Adding year column to dataframe\n",
    "netflix['month'] = netflix.date_added.dt.month_name()   # Adding month column to dataframe\n",
    "netflix['day'] = netflix.date_added.dt.day_name()       # Adding day column to dataframe"
   ]
  },
  {
   "cell_type": "code",
   "execution_count": 338,
   "id": "365f0125",
   "metadata": {},
   "outputs": [],
   "source": [
    "# Making categorical values for month column. To have convenient months order\n",
    "mo = ['January', 'February', 'March', 'April', 'May', 'June', 'July','August', 'September', 'October', 'November', 'December']\n",
    "netflix['month'] = pd.Categorical(netflix.month, categories=mo, ordered=True)"
   ]
  },
  {
   "cell_type": "code",
   "execution_count": 218,
   "id": "20b7ea3e",
   "metadata": {
    "scrolled": true
   },
   "outputs": [],
   "source": [
    "# Making categorical values for day column. To have convenient weekdays order\n",
    "weekday = ['Monday', 'Tuesday', 'Wednesday', 'Thursday', 'Friday', 'Saturday', 'Sunday']\n",
    "netflix['day'] = pd.Categorical(netflix.day, categories=weekday, ordered=True)"
   ]
  },
  {
   "cell_type": "code",
   "execution_count": 214,
   "id": "a0300632",
   "metadata": {},
   "outputs": [
    {
     "data": {
      "text/plain": [
       "type                               object\n",
       "title                              object\n",
       "director                           object\n",
       "country                            object\n",
       "date_added                 datetime64[ns]\n",
       "release_year                        int64\n",
       "rating                             object\n",
       "duration                            int64\n",
       "genres                             object\n",
       "description                        object\n",
       "delta_release_vs_adding             int64\n",
       "month                            category\n",
       "day                              category\n",
       "dtype: object"
      ]
     },
     "execution_count": 214,
     "metadata": {},
     "output_type": "execute_result"
    }
   ],
   "source": [
    "netflix.dtypes # Confirming changes"
   ]
  },
  {
   "cell_type": "markdown",
   "id": "bea55db4",
   "metadata": {},
   "source": [
    "<font size='3'> Dropping show_id and cast columns due to uselessness for this project </font>"
   ]
  },
  {
   "cell_type": "code",
   "execution_count": 133,
   "id": "113b4939",
   "metadata": {},
   "outputs": [],
   "source": [
    "netflix.drop(columns=['show_id', 'cast'], inplace=True)"
   ]
  },
  {
   "cell_type": "markdown",
   "id": "b8eca089",
   "metadata": {},
   "source": [
    "<font size='3'> Replacing NaN values in netflix dataframe </font>"
   ]
  },
  {
   "cell_type": "code",
   "execution_count": 157,
   "id": "95337bc5",
   "metadata": {},
   "outputs": [
    {
     "data": {
      "text/html": [
       "<div>\n",
       "<style scoped>\n",
       "    .dataframe tbody tr th:only-of-type {\n",
       "        vertical-align: middle;\n",
       "    }\n",
       "\n",
       "    .dataframe tbody tr th {\n",
       "        vertical-align: top;\n",
       "    }\n",
       "\n",
       "    .dataframe thead th {\n",
       "        text-align: right;\n",
       "    }\n",
       "</style>\n",
       "<table border=\"1\" class=\"dataframe\">\n",
       "  <thead>\n",
       "    <tr style=\"text-align: right;\">\n",
       "      <th></th>\n",
       "      <th>type</th>\n",
       "      <th>title</th>\n",
       "      <th>director</th>\n",
       "      <th>country</th>\n",
       "      <th>date_added</th>\n",
       "      <th>release_year</th>\n",
       "      <th>rating</th>\n",
       "      <th>duration</th>\n",
       "      <th>genres</th>\n",
       "      <th>description</th>\n",
       "      <th>delta_release_vs_adding</th>\n",
       "      <th>month</th>\n",
       "      <th>day</th>\n",
       "    </tr>\n",
       "  </thead>\n",
       "  <tbody>\n",
       "    <tr>\n",
       "      <th>1513</th>\n",
       "      <td>TV Show</td>\n",
       "      <td>Gargantia on the Verdurous Planet</td>\n",
       "      <td>NaN</td>\n",
       "      <td>Japan</td>\n",
       "      <td>2016-12-01</td>\n",
       "      <td>2013</td>\n",
       "      <td>NaN</td>\n",
       "      <td>1</td>\n",
       "      <td>Anime Series, International TV Shows</td>\n",
       "      <td>After falling through a wormhole, a space-dwel...</td>\n",
       "      <td>3.0</td>\n",
       "      <td>December</td>\n",
       "      <td>Thursday</td>\n",
       "    </tr>\n",
       "    <tr>\n",
       "      <th>2958</th>\n",
       "      <td>TV Show</td>\n",
       "      <td>Little Lunch</td>\n",
       "      <td>NaN</td>\n",
       "      <td>Australia</td>\n",
       "      <td>2018-02-01</td>\n",
       "      <td>2015</td>\n",
       "      <td>NaN</td>\n",
       "      <td>1</td>\n",
       "      <td>Kids' TV, TV Comedies</td>\n",
       "      <td>Adopting a child's perspective, this show take...</td>\n",
       "      <td>3.0</td>\n",
       "      <td>February</td>\n",
       "      <td>Thursday</td>\n",
       "    </tr>\n",
       "    <tr>\n",
       "      <th>3042</th>\n",
       "      <td>Movie</td>\n",
       "      <td>Louis C.K. 2017</td>\n",
       "      <td>Louis C.K.</td>\n",
       "      <td>United States</td>\n",
       "      <td>2017-04-04</td>\n",
       "      <td>2017</td>\n",
       "      <td>NaN</td>\n",
       "      <td>74</td>\n",
       "      <td>Movies</td>\n",
       "      <td>Louis C.K. muses on religion, eternal love, gi...</td>\n",
       "      <td>0.0</td>\n",
       "      <td>April</td>\n",
       "      <td>Tuesday</td>\n",
       "    </tr>\n",
       "    <tr>\n",
       "      <th>3043</th>\n",
       "      <td>Movie</td>\n",
       "      <td>Louis C.K.: Hilarious</td>\n",
       "      <td>Louis C.K.</td>\n",
       "      <td>United States</td>\n",
       "      <td>2016-09-16</td>\n",
       "      <td>2010</td>\n",
       "      <td>NaN</td>\n",
       "      <td>84</td>\n",
       "      <td>Movies</td>\n",
       "      <td>Emmy-winning comedy writer Louis C.K. brings h...</td>\n",
       "      <td>6.0</td>\n",
       "      <td>September</td>\n",
       "      <td>Friday</td>\n",
       "    </tr>\n",
       "    <tr>\n",
       "      <th>3044</th>\n",
       "      <td>Movie</td>\n",
       "      <td>Louis C.K.: Live at the Comedy Store</td>\n",
       "      <td>Louis C.K.</td>\n",
       "      <td>United States</td>\n",
       "      <td>2016-08-15</td>\n",
       "      <td>2015</td>\n",
       "      <td>NaN</td>\n",
       "      <td>66</td>\n",
       "      <td>Movies</td>\n",
       "      <td>The comic puts his trademark hilarious/thought...</td>\n",
       "      <td>1.0</td>\n",
       "      <td>August</td>\n",
       "      <td>Monday</td>\n",
       "    </tr>\n",
       "    <tr>\n",
       "      <th>3695</th>\n",
       "      <td>Movie</td>\n",
       "      <td>My Honor Was Loyalty</td>\n",
       "      <td>Alessandro Pepe</td>\n",
       "      <td>Italy</td>\n",
       "      <td>2017-03-01</td>\n",
       "      <td>2015</td>\n",
       "      <td>NaN</td>\n",
       "      <td>115</td>\n",
       "      <td>Dramas</td>\n",
       "      <td>Amid the chaos and horror of World War II, a c...</td>\n",
       "      <td>2.0</td>\n",
       "      <td>March</td>\n",
       "      <td>Wednesday</td>\n",
       "    </tr>\n",
       "    <tr>\n",
       "      <th>6444</th>\n",
       "      <td>Movie</td>\n",
       "      <td>13TH: A Conversation with Oprah Winfrey &amp; Ava ...</td>\n",
       "      <td>NaN</td>\n",
       "      <td>NaN</td>\n",
       "      <td>2017-01-26</td>\n",
       "      <td>2017</td>\n",
       "      <td>NaN</td>\n",
       "      <td>37</td>\n",
       "      <td>Movies</td>\n",
       "      <td>Oprah Winfrey sits down with director Ava DuVe...</td>\n",
       "      <td>0.0</td>\n",
       "      <td>January</td>\n",
       "      <td>Thursday</td>\n",
       "    </tr>\n",
       "  </tbody>\n",
       "</table>\n",
       "</div>"
      ],
      "text/plain": [
       "         type                                              title  \\\n",
       "1513  TV Show                  Gargantia on the Verdurous Planet   \n",
       "2958  TV Show                                       Little Lunch   \n",
       "3042    Movie                                    Louis C.K. 2017   \n",
       "3043    Movie                              Louis C.K.: Hilarious   \n",
       "3044    Movie               Louis C.K.: Live at the Comedy Store   \n",
       "3695    Movie                               My Honor Was Loyalty   \n",
       "6444    Movie  13TH: A Conversation with Oprah Winfrey & Ava ...   \n",
       "\n",
       "             director        country date_added  release_year rating  \\\n",
       "1513              NaN          Japan 2016-12-01          2013    NaN   \n",
       "2958              NaN      Australia 2018-02-01          2015    NaN   \n",
       "3042       Louis C.K.  United States 2017-04-04          2017    NaN   \n",
       "3043       Louis C.K.  United States 2016-09-16          2010    NaN   \n",
       "3044       Louis C.K.  United States 2016-08-15          2015    NaN   \n",
       "3695  Alessandro Pepe          Italy 2017-03-01          2015    NaN   \n",
       "6444              NaN            NaN 2017-01-26          2017    NaN   \n",
       "\n",
       "      duration                                genres  \\\n",
       "1513         1  Anime Series, International TV Shows   \n",
       "2958         1                 Kids' TV, TV Comedies   \n",
       "3042        74                                Movies   \n",
       "3043        84                                Movies   \n",
       "3044        66                                Movies   \n",
       "3695       115                                Dramas   \n",
       "6444        37                                Movies   \n",
       "\n",
       "                                            description  \\\n",
       "1513  After falling through a wormhole, a space-dwel...   \n",
       "2958  Adopting a child's perspective, this show take...   \n",
       "3042  Louis C.K. muses on religion, eternal love, gi...   \n",
       "3043  Emmy-winning comedy writer Louis C.K. brings h...   \n",
       "3044  The comic puts his trademark hilarious/thought...   \n",
       "3695  Amid the chaos and horror of World War II, a c...   \n",
       "6444  Oprah Winfrey sits down with director Ava DuVe...   \n",
       "\n",
       "      delta_release_vs_adding      month        day  \n",
       "1513                      3.0   December   Thursday  \n",
       "2958                      3.0   February   Thursday  \n",
       "3042                      0.0      April    Tuesday  \n",
       "3043                      6.0  September     Friday  \n",
       "3044                      1.0     August     Monday  \n",
       "3695                      2.0      March  Wednesday  \n",
       "6444                      0.0    January   Thursday  "
      ]
     },
     "execution_count": 157,
     "metadata": {},
     "output_type": "execute_result"
    }
   ],
   "source": [
    "netflix.query('rating.isnull() == True') # Filtering dataframe with NaN rating values"
   ]
  },
  {
   "cell_type": "code",
   "execution_count": 177,
   "id": "e41fab66",
   "metadata": {
    "scrolled": true
   },
   "outputs": [
    {
     "name": "stderr",
     "output_type": "stream",
     "text": [
      "/var/folders/5r/f4s91dtn26d9p7wx3705nv6m0000gn/T/ipykernel_38064/944629783.py:4: SettingWithCopyWarning: \n",
      "A value is trying to be set on a copy of a slice from a DataFrame\n",
      "\n",
      "See the caveats in the documentation: https://pandas.pydata.org/pandas-docs/stable/user_guide/indexing.html#returning-a-view-versus-a-copy\n",
      "  netflix['rating'].iloc[i] = 'TV-14'\n"
     ]
    }
   ],
   "source": [
    "# Setting rating for kids and anime show\n",
    "a = [1513, 2958]\n",
    "for i in a:\n",
    "    netflix['rating'].iloc[i] = 'TV-14'"
   ]
  },
  {
   "cell_type": "code",
   "execution_count": 175,
   "id": "209dda43",
   "metadata": {},
   "outputs": [
    {
     "name": "stderr",
     "output_type": "stream",
     "text": [
      "/var/folders/5r/f4s91dtn26d9p7wx3705nv6m0000gn/T/ipykernel_38064/646111163.py:4: SettingWithCopyWarning: \n",
      "A value is trying to be set on a copy of a slice from a DataFrame\n",
      "\n",
      "See the caveats in the documentation: https://pandas.pydata.org/pandas-docs/stable/user_guide/indexing.html#returning-a-view-versus-a-copy\n",
      "  netflix['rating'].iloc[q] = 'TV-MA'\n"
     ]
    }
   ],
   "source": [
    "# Setting rating for movies 18+\n",
    "b = [3042, 3043, 3044, 3695, 6444]\n",
    "for q in b:\n",
    "    netflix['rating'].iloc[q] = 'TV-MA'"
   ]
  },
  {
   "cell_type": "code",
   "execution_count": 179,
   "id": "dc36a9a5",
   "metadata": {},
   "outputs": [
    {
     "data": {
      "text/plain": [
       "0"
      ]
     },
     "execution_count": 179,
     "metadata": {},
     "output_type": "execute_result"
    }
   ],
   "source": [
    "netflix.rating.isnull().sum() # Confirming changes"
   ]
  },
  {
   "cell_type": "code",
   "execution_count": 180,
   "id": "6914cf2d",
   "metadata": {},
   "outputs": [],
   "source": [
    "netflix.country.fillna('Missing', inplace=True) # Filling NaN values for country column"
   ]
  },
  {
   "cell_type": "code",
   "execution_count": 181,
   "id": "c928161e",
   "metadata": {},
   "outputs": [],
   "source": [
    "netflix.director.fillna('Absent', inplace=True) # Filling NaN values for director column"
   ]
  },
  {
   "cell_type": "code",
   "execution_count": 184,
   "id": "56cffeff",
   "metadata": {},
   "outputs": [
    {
     "data": {
      "text/plain": [
       "type                       0\n",
       "title                      0\n",
       "director                   0\n",
       "country                    0\n",
       "date_added                 0\n",
       "release_year               0\n",
       "rating                     0\n",
       "duration                   0\n",
       "genres                     0\n",
       "description                0\n",
       "delta_release_vs_adding    0\n",
       "month                      0\n",
       "day                        0\n",
       "dtype: int64"
      ]
     },
     "execution_count": 184,
     "metadata": {},
     "output_type": "execute_result"
    }
   ],
   "source": [
    "netflix.isna().sum() # Confirming changes"
   ]
  },
  {
   "cell_type": "markdown",
   "id": "3eec4471",
   "metadata": {},
   "source": [
    "### Exploratory Data Analysis"
   ]
  },
  {
   "cell_type": "markdown",
   "id": "ab4542b9",
   "metadata": {},
   "source": [
    "<font size='3'> Performing basic statictical summary </font>"
   ]
  },
  {
   "cell_type": "code",
   "execution_count": 187,
   "id": "36e246a3",
   "metadata": {},
   "outputs": [
    {
     "data": {
      "text/html": [
       "<div>\n",
       "<style scoped>\n",
       "    .dataframe tbody tr th:only-of-type {\n",
       "        vertical-align: middle;\n",
       "    }\n",
       "\n",
       "    .dataframe tbody tr th {\n",
       "        vertical-align: top;\n",
       "    }\n",
       "\n",
       "    .dataframe thead th {\n",
       "        text-align: right;\n",
       "    }\n",
       "</style>\n",
       "<table border=\"1\" class=\"dataframe\">\n",
       "  <thead>\n",
       "    <tr style=\"text-align: right;\">\n",
       "      <th></th>\n",
       "      <th>count</th>\n",
       "      <th>mean</th>\n",
       "      <th>std</th>\n",
       "      <th>min</th>\n",
       "      <th>25%</th>\n",
       "      <th>50%</th>\n",
       "      <th>75%</th>\n",
       "      <th>max</th>\n",
       "    </tr>\n",
       "  </thead>\n",
       "  <tbody>\n",
       "    <tr>\n",
       "      <th>release_year</th>\n",
       "      <td>7787.0</td>\n",
       "      <td>2013.932580</td>\n",
       "      <td>8.757395</td>\n",
       "      <td>1925.0</td>\n",
       "      <td>2013.0</td>\n",
       "      <td>2017.0</td>\n",
       "      <td>2018.0</td>\n",
       "      <td>2021.0</td>\n",
       "    </tr>\n",
       "    <tr>\n",
       "      <th>duration</th>\n",
       "      <td>7787.0</td>\n",
       "      <td>69.122769</td>\n",
       "      <td>50.950743</td>\n",
       "      <td>1.0</td>\n",
       "      <td>2.0</td>\n",
       "      <td>88.0</td>\n",
       "      <td>106.0</td>\n",
       "      <td>312.0</td>\n",
       "    </tr>\n",
       "    <tr>\n",
       "      <th>delta_release_vs_adding</th>\n",
       "      <td>7787.0</td>\n",
       "      <td>4.561449</td>\n",
       "      <td>8.727864</td>\n",
       "      <td>-3.0</td>\n",
       "      <td>0.0</td>\n",
       "      <td>1.0</td>\n",
       "      <td>5.0</td>\n",
       "      <td>93.0</td>\n",
       "    </tr>\n",
       "  </tbody>\n",
       "</table>\n",
       "</div>"
      ],
      "text/plain": [
       "                          count         mean        std     min     25%  \\\n",
       "release_year             7787.0  2013.932580   8.757395  1925.0  2013.0   \n",
       "duration                 7787.0    69.122769  50.950743     1.0     2.0   \n",
       "delta_release_vs_adding  7787.0     4.561449   8.727864    -3.0     0.0   \n",
       "\n",
       "                            50%     75%     max  \n",
       "release_year             2017.0  2018.0  2021.0  \n",
       "duration                   88.0   106.0   312.0  \n",
       "delta_release_vs_adding     1.0     5.0    93.0  "
      ]
     },
     "execution_count": 187,
     "metadata": {},
     "output_type": "execute_result"
    }
   ],
   "source": [
    "netflix.describe().T"
   ]
  },
  {
   "cell_type": "code",
   "execution_count": 188,
   "id": "1a90e1d8",
   "metadata": {
    "scrolled": true
   },
   "outputs": [
    {
     "data": {
      "text/html": [
       "<div>\n",
       "<style scoped>\n",
       "    .dataframe tbody tr th:only-of-type {\n",
       "        vertical-align: middle;\n",
       "    }\n",
       "\n",
       "    .dataframe tbody tr th {\n",
       "        vertical-align: top;\n",
       "    }\n",
       "\n",
       "    .dataframe thead th {\n",
       "        text-align: right;\n",
       "    }\n",
       "</style>\n",
       "<table border=\"1\" class=\"dataframe\">\n",
       "  <thead>\n",
       "    <tr style=\"text-align: right;\">\n",
       "      <th></th>\n",
       "      <th>count</th>\n",
       "      <th>unique</th>\n",
       "      <th>top</th>\n",
       "      <th>freq</th>\n",
       "    </tr>\n",
       "  </thead>\n",
       "  <tbody>\n",
       "    <tr>\n",
       "      <th>type</th>\n",
       "      <td>7787</td>\n",
       "      <td>2</td>\n",
       "      <td>Movie</td>\n",
       "      <td>5377</td>\n",
       "    </tr>\n",
       "    <tr>\n",
       "      <th>title</th>\n",
       "      <td>7787</td>\n",
       "      <td>7787</td>\n",
       "      <td>3%</td>\n",
       "      <td>1</td>\n",
       "    </tr>\n",
       "    <tr>\n",
       "      <th>director</th>\n",
       "      <td>7787</td>\n",
       "      <td>4050</td>\n",
       "      <td>Absent</td>\n",
       "      <td>2389</td>\n",
       "    </tr>\n",
       "    <tr>\n",
       "      <th>country</th>\n",
       "      <td>7787</td>\n",
       "      <td>682</td>\n",
       "      <td>United States</td>\n",
       "      <td>2555</td>\n",
       "    </tr>\n",
       "    <tr>\n",
       "      <th>rating</th>\n",
       "      <td>7787</td>\n",
       "      <td>14</td>\n",
       "      <td>TV-MA</td>\n",
       "      <td>2868</td>\n",
       "    </tr>\n",
       "    <tr>\n",
       "      <th>genres</th>\n",
       "      <td>7787</td>\n",
       "      <td>492</td>\n",
       "      <td>Documentaries</td>\n",
       "      <td>334</td>\n",
       "    </tr>\n",
       "    <tr>\n",
       "      <th>description</th>\n",
       "      <td>7787</td>\n",
       "      <td>7769</td>\n",
       "      <td>Multiple women report their husbands as missin...</td>\n",
       "      <td>3</td>\n",
       "    </tr>\n",
       "    <tr>\n",
       "      <th>month</th>\n",
       "      <td>7787</td>\n",
       "      <td>12</td>\n",
       "      <td>December</td>\n",
       "      <td>833</td>\n",
       "    </tr>\n",
       "    <tr>\n",
       "      <th>day</th>\n",
       "      <td>7787</td>\n",
       "      <td>7</td>\n",
       "      <td>Friday</td>\n",
       "      <td>2297</td>\n",
       "    </tr>\n",
       "  </tbody>\n",
       "</table>\n",
       "</div>"
      ],
      "text/plain": [
       "            count unique                                                top  \\\n",
       "type         7787      2                                              Movie   \n",
       "title        7787   7787                                                 3%   \n",
       "director     7787   4050                                             Absent   \n",
       "country      7787    682                                      United States   \n",
       "rating       7787     14                                              TV-MA   \n",
       "genres       7787    492                                      Documentaries   \n",
       "description  7787   7769  Multiple women report their husbands as missin...   \n",
       "month        7787     12                                           December   \n",
       "day          7787      7                                             Friday   \n",
       "\n",
       "             freq  \n",
       "type         5377  \n",
       "title           1  \n",
       "director     2389  \n",
       "country      2555  \n",
       "rating       2868  \n",
       "genres        334  \n",
       "description     3  \n",
       "month         833  \n",
       "day          2297  "
      ]
     },
     "execution_count": 188,
     "metadata": {},
     "output_type": "execute_result"
    }
   ],
   "source": [
    "netflix.describe(include='object').T"
   ]
  },
  {
   "cell_type": "markdown",
   "id": "41697d30",
   "metadata": {},
   "source": [
    "<font size='3'> Which type of content is more popular </font>"
   ]
  },
  {
   "cell_type": "code",
   "execution_count": 223,
   "id": "c68d2e6d",
   "metadata": {},
   "outputs": [
    {
     "data": {
      "text/plain": [
       "Movie      5377\n",
       "TV Show    2410\n",
       "Name: type, dtype: int64"
      ]
     },
     "execution_count": 223,
     "metadata": {},
     "output_type": "execute_result"
    }
   ],
   "source": [
    "netflix.type.value_counts()"
   ]
  },
  {
   "cell_type": "markdown",
   "id": "ee35b121",
   "metadata": {},
   "source": [
    "*<font size='3'> Movies are more common than TV shows</font>*"
   ]
  },
  {
   "cell_type": "markdown",
   "id": "702c398a",
   "metadata": {},
   "source": [
    "<font size='1'>     </font>"
   ]
  },
  {
   "cell_type": "markdown",
   "id": "cba77a51",
   "metadata": {},
   "source": [
    "<font size='3'> Dynamic of movies and TV shows releases by years </font>"
   ]
  },
  {
   "cell_type": "code",
   "execution_count": 53,
   "id": "f47e2051",
   "metadata": {},
   "outputs": [
    {
     "data": {
      "text/html": [
       "<div>\n",
       "<style scoped>\n",
       "    .dataframe tbody tr th:only-of-type {\n",
       "        vertical-align: middle;\n",
       "    }\n",
       "\n",
       "    .dataframe tbody tr th {\n",
       "        vertical-align: top;\n",
       "    }\n",
       "\n",
       "    .dataframe thead th {\n",
       "        text-align: right;\n",
       "    }\n",
       "</style>\n",
       "<table border=\"1\" class=\"dataframe\">\n",
       "  <thead>\n",
       "    <tr style=\"text-align: right;\">\n",
       "      <th></th>\n",
       "      <th>release_year</th>\n",
       "      <th>description</th>\n",
       "    </tr>\n",
       "  </thead>\n",
       "  <tbody>\n",
       "    <tr>\n",
       "      <th>0</th>\n",
       "      <td>1925</td>\n",
       "      <td>1</td>\n",
       "    </tr>\n",
       "    <tr>\n",
       "      <th>1</th>\n",
       "      <td>1942</td>\n",
       "      <td>2</td>\n",
       "    </tr>\n",
       "    <tr>\n",
       "      <th>2</th>\n",
       "      <td>1943</td>\n",
       "      <td>3</td>\n",
       "    </tr>\n",
       "    <tr>\n",
       "      <th>3</th>\n",
       "      <td>1944</td>\n",
       "      <td>3</td>\n",
       "    </tr>\n",
       "    <tr>\n",
       "      <th>4</th>\n",
       "      <td>1945</td>\n",
       "      <td>3</td>\n",
       "    </tr>\n",
       "    <tr>\n",
       "      <th>...</th>\n",
       "      <td>...</td>\n",
       "      <td>...</td>\n",
       "    </tr>\n",
       "    <tr>\n",
       "      <th>68</th>\n",
       "      <td>2017</td>\n",
       "      <td>1012</td>\n",
       "    </tr>\n",
       "    <tr>\n",
       "      <th>69</th>\n",
       "      <td>2018</td>\n",
       "      <td>1121</td>\n",
       "    </tr>\n",
       "    <tr>\n",
       "      <th>70</th>\n",
       "      <td>2019</td>\n",
       "      <td>996</td>\n",
       "    </tr>\n",
       "    <tr>\n",
       "      <th>71</th>\n",
       "      <td>2020</td>\n",
       "      <td>868</td>\n",
       "    </tr>\n",
       "    <tr>\n",
       "      <th>72</th>\n",
       "      <td>2021</td>\n",
       "      <td>31</td>\n",
       "    </tr>\n",
       "  </tbody>\n",
       "</table>\n",
       "<p>73 rows × 2 columns</p>\n",
       "</div>"
      ],
      "text/plain": [
       "    release_year  description\n",
       "0           1925            1\n",
       "1           1942            2\n",
       "2           1943            3\n",
       "3           1944            3\n",
       "4           1945            3\n",
       "..           ...          ...\n",
       "68          2017         1012\n",
       "69          2018         1121\n",
       "70          2019          996\n",
       "71          2020          868\n",
       "72          2021           31\n",
       "\n",
       "[73 rows x 2 columns]"
      ]
     },
     "execution_count": 53,
     "metadata": {},
     "output_type": "execute_result"
    }
   ],
   "source": [
    "# Creating dataframe to see the dynamic and build the lineplot\n",
    "movies_by_release = netflix \\\n",
    "    .groupby('release_year', as_index=False) \\\n",
    "    .agg({'description': 'count'}) \\\n",
    "    .sort_values('release_year').reset_index(drop=True)\n",
    "\n",
    "movies_by_release"
   ]
  },
  {
   "cell_type": "code",
   "execution_count": 365,
   "id": "23b62cc8",
   "metadata": {},
   "outputs": [
    {
     "data": {
      "image/png": "[encoded data removed]",
      "text/plain": [
       "<Figure size 2000x700 with 1 Axes>"
      ]
     },
     "metadata": {},
     "output_type": "display_data"
    }
   ],
   "source": [
    "sns.lineplot(data=movies_by_release, x='release_year', y='description');\n",
    "plt.title('TV Shows and movies releases by year');\n",
    "plt.xlabel('Release year');\n",
    "plt.ylabel('Movies and TV Shows');"
   ]
  },
  {
   "cell_type": "markdown",
   "id": "c67986dc",
   "metadata": {},
   "source": [
    "*<font size='3'> As sees from the plot, movie industry started actively grow by end of 2000. Value drop in early 2020 is representing missing data in dataset (all data is till 2021) and COVID quarantine in 2020 that affected movie industry as well as other industries. </font>*"
   ]
  },
  {
   "cell_type": "markdown",
   "id": "6f5f869f",
   "metadata": {},
   "source": [
    "<font size='1'>     </font>"
   ]
  },
  {
   "cell_type": "markdown",
   "id": "a2cd715f",
   "metadata": {},
   "source": [
    "<font size='3'> Dynamic of movies and TV shows adding to the platfrom by years </font>"
   ]
  },
  {
   "cell_type": "code",
   "execution_count": 64,
   "id": "9582da03",
   "metadata": {},
   "outputs": [
    {
     "data": {
      "text/html": [
       "<div>\n",
       "<style scoped>\n",
       "    .dataframe tbody tr th:only-of-type {\n",
       "        vertical-align: middle;\n",
       "    }\n",
       "\n",
       "    .dataframe tbody tr th {\n",
       "        vertical-align: top;\n",
       "    }\n",
       "\n",
       "    .dataframe thead th {\n",
       "        text-align: right;\n",
       "    }\n",
       "</style>\n",
       "<table border=\"1\" class=\"dataframe\">\n",
       "  <thead>\n",
       "    <tr style=\"text-align: right;\">\n",
       "      <th></th>\n",
       "      <th>date_added</th>\n",
       "      <th>description</th>\n",
       "    </tr>\n",
       "  </thead>\n",
       "  <tbody>\n",
       "    <tr>\n",
       "      <th>0</th>\n",
       "      <td>2008-01-01</td>\n",
       "      <td>1</td>\n",
       "    </tr>\n",
       "    <tr>\n",
       "      <th>1</th>\n",
       "      <td>2008-02-04</td>\n",
       "      <td>1</td>\n",
       "    </tr>\n",
       "    <tr>\n",
       "      <th>2</th>\n",
       "      <td>2009-05-05</td>\n",
       "      <td>1</td>\n",
       "    </tr>\n",
       "    <tr>\n",
       "      <th>3</th>\n",
       "      <td>2009-11-18</td>\n",
       "      <td>1</td>\n",
       "    </tr>\n",
       "    <tr>\n",
       "      <th>4</th>\n",
       "      <td>2010-11-01</td>\n",
       "      <td>1</td>\n",
       "    </tr>\n",
       "    <tr>\n",
       "      <th>...</th>\n",
       "      <td>...</td>\n",
       "      <td>...</td>\n",
       "    </tr>\n",
       "    <tr>\n",
       "      <th>1507</th>\n",
       "      <td>2021-01-12</td>\n",
       "      <td>3</td>\n",
       "    </tr>\n",
       "    <tr>\n",
       "      <th>1508</th>\n",
       "      <td>2021-01-13</td>\n",
       "      <td>2</td>\n",
       "    </tr>\n",
       "    <tr>\n",
       "      <th>1509</th>\n",
       "      <td>2021-01-14</td>\n",
       "      <td>2</td>\n",
       "    </tr>\n",
       "    <tr>\n",
       "      <th>1510</th>\n",
       "      <td>2021-01-15</td>\n",
       "      <td>15</td>\n",
       "    </tr>\n",
       "    <tr>\n",
       "      <th>1511</th>\n",
       "      <td>2021-01-16</td>\n",
       "      <td>3</td>\n",
       "    </tr>\n",
       "  </tbody>\n",
       "</table>\n",
       "<p>1512 rows × 2 columns</p>\n",
       "</div>"
      ],
      "text/plain": [
       "     date_added  description\n",
       "0    2008-01-01            1\n",
       "1    2008-02-04            1\n",
       "2    2009-05-05            1\n",
       "3    2009-11-18            1\n",
       "4    2010-11-01            1\n",
       "...         ...          ...\n",
       "1507 2021-01-12            3\n",
       "1508 2021-01-13            2\n",
       "1509 2021-01-14            2\n",
       "1510 2021-01-15           15\n",
       "1511 2021-01-16            3\n",
       "\n",
       "[1512 rows x 2 columns]"
      ]
     },
     "execution_count": 64,
     "metadata": {},
     "output_type": "execute_result"
    }
   ],
   "source": [
    "# Creating dataframe to see the dynamic and build the lineplot\n",
    "movies_by_adding = netflix \\\n",
    "    .groupby('date_added', as_index=False) \\\n",
    "    .agg({'description': 'count'}) \\\n",
    "    .sort_values('date_added').reset_index(drop=True)\n",
    "\n",
    "movies_by_adding"
   ]
  },
  {
   "cell_type": "code",
   "execution_count": 271,
   "id": "4dd72111",
   "metadata": {},
   "outputs": [],
   "source": [
    "# Adding rolling mean with window of 50, to smooth the line and be able to see dynamic\n",
    "movies_by_adding['rolling'] = movies_by_adding.description.rolling(50).mean().round(2)"
   ]
  },
  {
   "cell_type": "code",
   "execution_count": 368,
   "id": "de1906e0",
   "metadata": {
    "scrolled": false
   },
   "outputs": [
    {
     "data": {
      "text/html": [
       "<div>\n",
       "<style scoped>\n",
       "    .dataframe tbody tr th:only-of-type {\n",
       "        vertical-align: middle;\n",
       "    }\n",
       "\n",
       "    .dataframe tbody tr th {\n",
       "        vertical-align: top;\n",
       "    }\n",
       "\n",
       "    .dataframe thead th {\n",
       "        text-align: right;\n",
       "    }\n",
       "</style>\n",
       "<table border=\"1\" class=\"dataframe\">\n",
       "  <thead>\n",
       "    <tr style=\"text-align: right;\">\n",
       "      <th></th>\n",
       "      <th>date_added</th>\n",
       "      <th>description</th>\n",
       "      <th>rolling</th>\n",
       "    </tr>\n",
       "  </thead>\n",
       "  <tbody>\n",
       "    <tr>\n",
       "      <th>0</th>\n",
       "      <td>2008-01-01</td>\n",
       "      <td>1</td>\n",
       "      <td>NaN</td>\n",
       "    </tr>\n",
       "    <tr>\n",
       "      <th>1</th>\n",
       "      <td>2008-02-04</td>\n",
       "      <td>1</td>\n",
       "      <td>NaN</td>\n",
       "    </tr>\n",
       "    <tr>\n",
       "      <th>2</th>\n",
       "      <td>2009-05-05</td>\n",
       "      <td>1</td>\n",
       "      <td>NaN</td>\n",
       "    </tr>\n",
       "    <tr>\n",
       "      <th>3</th>\n",
       "      <td>2009-11-18</td>\n",
       "      <td>1</td>\n",
       "      <td>NaN</td>\n",
       "    </tr>\n",
       "    <tr>\n",
       "      <th>4</th>\n",
       "      <td>2010-11-01</td>\n",
       "      <td>1</td>\n",
       "      <td>NaN</td>\n",
       "    </tr>\n",
       "    <tr>\n",
       "      <th>...</th>\n",
       "      <td>...</td>\n",
       "      <td>...</td>\n",
       "      <td>...</td>\n",
       "    </tr>\n",
       "    <tr>\n",
       "      <th>1507</th>\n",
       "      <td>2021-01-12</td>\n",
       "      <td>3</td>\n",
       "      <td>6.50</td>\n",
       "    </tr>\n",
       "    <tr>\n",
       "      <th>1508</th>\n",
       "      <td>2021-01-13</td>\n",
       "      <td>2</td>\n",
       "      <td>6.32</td>\n",
       "    </tr>\n",
       "    <tr>\n",
       "      <th>1509</th>\n",
       "      <td>2021-01-14</td>\n",
       "      <td>2</td>\n",
       "      <td>6.20</td>\n",
       "    </tr>\n",
       "    <tr>\n",
       "      <th>1510</th>\n",
       "      <td>2021-01-15</td>\n",
       "      <td>15</td>\n",
       "      <td>6.46</td>\n",
       "    </tr>\n",
       "    <tr>\n",
       "      <th>1511</th>\n",
       "      <td>2021-01-16</td>\n",
       "      <td>3</td>\n",
       "      <td>6.44</td>\n",
       "    </tr>\n",
       "  </tbody>\n",
       "</table>\n",
       "<p>1512 rows × 3 columns</p>\n",
       "</div>"
      ],
      "text/plain": [
       "     date_added  description  rolling\n",
       "0    2008-01-01            1      NaN\n",
       "1    2008-02-04            1      NaN\n",
       "2    2009-05-05            1      NaN\n",
       "3    2009-11-18            1      NaN\n",
       "4    2010-11-01            1      NaN\n",
       "...         ...          ...      ...\n",
       "1507 2021-01-12            3     6.50\n",
       "1508 2021-01-13            2     6.32\n",
       "1509 2021-01-14            2     6.20\n",
       "1510 2021-01-15           15     6.46\n",
       "1511 2021-01-16            3     6.44\n",
       "\n",
       "[1512 rows x 3 columns]"
      ]
     },
     "execution_count": 368,
     "metadata": {},
     "output_type": "execute_result"
    }
   ],
   "source": [
    "movies_by_adding"
   ]
  },
  {
   "cell_type": "code",
   "execution_count": 367,
   "id": "b067ebaa",
   "metadata": {
    "scrolled": false
   },
   "outputs": [
    {
     "data": {
      "image/png": "[encoded data removed]",
      "text/plain": [
       "<Figure size 2000x700 with 1 Axes>"
      ]
     },
     "metadata": {},
     "output_type": "display_data"
    }
   ],
   "source": [
    "sns.lineplot(data=movies_by_adding, x='date_added', y='rolling');\n",
    "plt.title('TV Shows and movies adding on Netflis by year');\n",
    "plt.xlabel('Date added');\n",
    "plt.ylabel('Movies and TV Shows');"
   ]
  },
  {
   "cell_type": "markdown",
   "id": "e4838e60",
   "metadata": {},
   "source": [
    "*<font size='3'> Netflix established in 1979 and in early 2010 started to become more popular.By 2021 they estimated roughly 209 million global memberships. The graph shows that with platform popularity growth content adding is also increased year by year. The drop in early 2020 may also indicate COVID effect. Netflix team didn't bypassed quarantine as well as others, but got back to the service very soon. </font>*"
   ]
  },
  {
   "cell_type": "markdown",
   "id": "768214e4",
   "metadata": {},
   "source": [
    "<font size='1'>     </font>"
   ]
  },
  {
   "cell_type": "markdown",
   "id": "2d43de4c",
   "metadata": {},
   "source": [
    "<font size='3'> Which months movies and TV shows are mostly added </font>"
   ]
  },
  {
   "cell_type": "code",
   "execution_count": 369,
   "id": "9e2d3282",
   "metadata": {},
   "outputs": [
    {
     "data": {
      "image/png": "[encoded data removed]",
      "text/plain": [
       "<Figure size 500x500 with 1 Axes>"
      ]
     },
     "metadata": {},
     "output_type": "display_data"
    }
   ],
   "source": [
    "sns.displot(data=netflix.query('type == \"Movie\"'), y='month');\n",
    "plt.title('Movies addition by months');\n",
    "plt.xlabel('Movies');\n",
    "plt.ylabel('Month');\n",
    "#plt.xticks(rotation=90);"
   ]
  },
  {
   "cell_type": "markdown",
   "id": "d356dcb5",
   "metadata": {},
   "source": [
    "*<font size='3'> Movies are mostly added to the platform from October to January. This corelates with American holidays that happening in this period. </font>*"
   ]
  },
  {
   "cell_type": "code",
   "execution_count": 370,
   "id": "c9abfada",
   "metadata": {},
   "outputs": [
    {
     "data": {
      "image/png": "[encoded data removed]",
      "text/plain": [
       "<Figure size 500x500 with 1 Axes>"
      ]
     },
     "metadata": {},
     "output_type": "display_data"
    }
   ],
   "source": [
    "sns.displot(data=netflix.query('type == \"TV Show\"'), y='month');\n",
    "plt.title('TV Shows addition by months');\n",
    "plt.xlabel('TV Shows');\n",
    "plt.ylabel('Month');"
   ]
  },
  {
   "cell_type": "markdown",
   "id": "eb01ec0a",
   "metadata": {},
   "source": [
    "*<font size='3'> TV Shows are mostly added to the platform in December. </font>*"
   ]
  },
  {
   "cell_type": "markdown",
   "id": "3f7c8b45",
   "metadata": {},
   "source": [
    "<font size='1'>     </font>"
   ]
  },
  {
   "cell_type": "markdown",
   "id": "856c6caf",
   "metadata": {},
   "source": [
    "<font size='3'> Top 10 countries by producing movies and TV Shows </font>"
   ]
  },
  {
   "cell_type": "code",
   "execution_count": 274,
   "id": "4196cdac",
   "metadata": {},
   "outputs": [
    {
     "data": {
      "text/plain": [
       "United States     2555\n",
       "India              923\n",
       "Missing            507\n",
       "United Kingdom     397\n",
       "Japan              226\n",
       "South Korea        183\n",
       "Canada             177\n",
       "Spain              134\n",
       "France             115\n",
       "Egypt              101\n",
       "Name: country, dtype: int64"
      ]
     },
     "execution_count": 274,
     "metadata": {},
     "output_type": "execute_result"
    }
   ],
   "source": [
    "netflix.country.value_counts().head(10)"
   ]
  },
  {
   "cell_type": "markdown",
   "id": "5cd5c992",
   "metadata": {},
   "source": [
    "<font size='3'> Popular ratings overall </font>"
   ]
  },
  {
   "cell_type": "code",
   "execution_count": 243,
   "id": "99f91f6f",
   "metadata": {},
   "outputs": [
    {
     "data": {
      "text/plain": [
       "TV-MA       2868\n",
       "TV-14       1933\n",
       "TV-PG        806\n",
       "R            665\n",
       "PG-13        386\n",
       "TV-Y         280\n",
       "TV-Y7        271\n",
       "PG           247\n",
       "TV-G         194\n",
       "NR            84\n",
       "G             39\n",
       "TV-Y7-FV       6\n",
       "UR             5\n",
       "NC-17          3\n",
       "Name: rating, dtype: int64"
      ]
     },
     "execution_count": 243,
     "metadata": {},
     "output_type": "execute_result"
    }
   ],
   "source": [
    "netflix.rating.value_counts()"
   ]
  },
  {
   "cell_type": "markdown",
   "id": "2ef8bf26",
   "metadata": {},
   "source": [
    "<font size='3'> Popular movie ratings </font>"
   ]
  },
  {
   "cell_type": "code",
   "execution_count": 251,
   "id": "cf802df5",
   "metadata": {
    "scrolled": false
   },
   "outputs": [
    {
     "data": {
      "image/png": "[encoded data removed]",
      "text/plain": [
       "<Figure size 500x500 with 1 Axes>"
      ]
     },
     "metadata": {},
     "output_type": "display_data"
    }
   ],
   "source": [
    "sns.displot(data=netflix.query('type == \"Movie\"'), y='rating');\n",
    "plt.title('Popular movie ratings');\n",
    "plt.xlabel('Movies');\n",
    "plt.ylabel('Rating');"
   ]
  },
  {
   "cell_type": "markdown",
   "id": "7348a1df",
   "metadata": {},
   "source": [
    "<font size='3'> Popular TV shows ratings </font>"
   ]
  },
  {
   "cell_type": "code",
   "execution_count": 250,
   "id": "a0471df8",
   "metadata": {
    "scrolled": false
   },
   "outputs": [
    {
     "data": {
      "image/png": "[encoded data removed]",
      "text/plain": [
       "<Figure size 500x500 with 1 Axes>"
      ]
     },
     "metadata": {},
     "output_type": "display_data"
    }
   ],
   "source": [
    "sns.displot(data=netflix.query('type == \"TV Show\"'), y='rating');\n",
    "plt.title('Popular TV shows ratings');\n",
    "plt.xlabel('TV Show');\n",
    "plt.ylabel('Rating');"
   ]
  },
  {
   "cell_type": "markdown",
   "id": "3eb863ac",
   "metadata": {},
   "source": [
    "<font size='1'>     </font>"
   ]
  },
  {
   "cell_type": "markdown",
   "id": "a4964e33",
   "metadata": {},
   "source": [
    "<font size='3'> On which day mostly movies and TV shows are added to the platform </font>"
   ]
  },
  {
   "cell_type": "code",
   "execution_count": 248,
   "id": "a69eb2d0",
   "metadata": {},
   "outputs": [
    {
     "data": {
      "text/plain": [
       "Friday       2297\n",
       "Thursday     1147\n",
       "Tuesday      1070\n",
       "Wednesday    1020\n",
       "Monday        814\n",
       "Saturday      731\n",
       "Sunday        708\n",
       "Name: day, dtype: int64"
      ]
     },
     "execution_count": 248,
     "metadata": {},
     "output_type": "execute_result"
    }
   ],
   "source": [
    "netflix.day.value_counts()"
   ]
  },
  {
   "cell_type": "code",
   "execution_count": 249,
   "id": "687b5fb2",
   "metadata": {},
   "outputs": [
    {
     "data": {
      "image/png": "[encoded data removed]",
      "text/plain": [
       "<Figure size 500x500 with 1 Axes>"
      ]
     },
     "metadata": {},
     "output_type": "display_data"
    }
   ],
   "source": [
    "sns.displot(data=netflix, y='day');\n",
    "plt.title('Releases by weekday');\n",
    "plt.xlabel('Release');\n",
    "plt.ylabel('Weekday');"
   ]
  },
  {
   "cell_type": "markdown",
   "id": "7ae2de51",
   "metadata": {},
   "source": [
    "*<font size='3'> Movies and TV shows are mostly added to Netflix on friday. Which is the end day of workweek in most countries. </font>*"
   ]
  },
  {
   "cell_type": "markdown",
   "id": "20598413",
   "metadata": {},
   "source": [
    "<font size='1'>     </font>"
   ]
  },
  {
   "cell_type": "markdown",
   "id": "c5867106",
   "metadata": {},
   "source": [
    "<font size='3'> Dynamic of movies and TV shows adding to the Netflix within 1 year of their release </font>"
   ]
  },
  {
   "cell_type": "code",
   "execution_count": 183,
   "id": "53830278",
   "metadata": {},
   "outputs": [],
   "source": [
    "# Adding column with delta between date of release and date of adding to the platform\n",
    "netflix['delta_release_vs_adding'] = netflix.date_added.dt.year - netflix.release_year"
   ]
  },
  {
   "cell_type": "code",
   "execution_count": 372,
   "id": "ffc745e1",
   "metadata": {},
   "outputs": [],
   "source": [
    "temp = netflix.query('delta_release_vs_adding <= 1').groupby('date_added', as_index=False).agg({'rating': 'count'})"
   ]
  },
  {
   "cell_type": "code",
   "execution_count": 373,
   "id": "33b5f05c",
   "metadata": {
    "scrolled": false
   },
   "outputs": [
    {
     "data": {
      "text/html": [
       "<div>\n",
       "<style scoped>\n",
       "    .dataframe tbody tr th:only-of-type {\n",
       "        vertical-align: middle;\n",
       "    }\n",
       "\n",
       "    .dataframe tbody tr th {\n",
       "        vertical-align: top;\n",
       "    }\n",
       "\n",
       "    .dataframe thead th {\n",
       "        text-align: right;\n",
       "    }\n",
       "</style>\n",
       "<table border=\"1\" class=\"dataframe\">\n",
       "  <thead>\n",
       "    <tr style=\"text-align: right;\">\n",
       "      <th></th>\n",
       "      <th>date_added</th>\n",
       "      <th>rating</th>\n",
       "    </tr>\n",
       "  </thead>\n",
       "  <tbody>\n",
       "    <tr>\n",
       "      <th>0</th>\n",
       "      <td>2008-02-04</td>\n",
       "      <td>1</td>\n",
       "    </tr>\n",
       "    <tr>\n",
       "      <th>1</th>\n",
       "      <td>2009-11-18</td>\n",
       "      <td>1</td>\n",
       "    </tr>\n",
       "    <tr>\n",
       "      <th>2</th>\n",
       "      <td>2011-05-17</td>\n",
       "      <td>1</td>\n",
       "    </tr>\n",
       "    <tr>\n",
       "      <th>3</th>\n",
       "      <td>2012-02-21</td>\n",
       "      <td>1</td>\n",
       "    </tr>\n",
       "    <tr>\n",
       "      <th>4</th>\n",
       "      <td>2012-11-14</td>\n",
       "      <td>1</td>\n",
       "    </tr>\n",
       "    <tr>\n",
       "      <th>...</th>\n",
       "      <td>...</td>\n",
       "      <td>...</td>\n",
       "    </tr>\n",
       "    <tr>\n",
       "      <th>1347</th>\n",
       "      <td>2021-01-12</td>\n",
       "      <td>2</td>\n",
       "    </tr>\n",
       "    <tr>\n",
       "      <th>1348</th>\n",
       "      <td>2021-01-13</td>\n",
       "      <td>1</td>\n",
       "    </tr>\n",
       "    <tr>\n",
       "      <th>1349</th>\n",
       "      <td>2021-01-14</td>\n",
       "      <td>1</td>\n",
       "    </tr>\n",
       "    <tr>\n",
       "      <th>1350</th>\n",
       "      <td>2021-01-15</td>\n",
       "      <td>10</td>\n",
       "    </tr>\n",
       "    <tr>\n",
       "      <th>1351</th>\n",
       "      <td>2021-01-16</td>\n",
       "      <td>1</td>\n",
       "    </tr>\n",
       "  </tbody>\n",
       "</table>\n",
       "<p>1352 rows × 2 columns</p>\n",
       "</div>"
      ],
      "text/plain": [
       "     date_added  rating\n",
       "0    2008-02-04       1\n",
       "1    2009-11-18       1\n",
       "2    2011-05-17       1\n",
       "3    2012-02-21       1\n",
       "4    2012-11-14       1\n",
       "...         ...     ...\n",
       "1347 2021-01-12       2\n",
       "1348 2021-01-13       1\n",
       "1349 2021-01-14       1\n",
       "1350 2021-01-15      10\n",
       "1351 2021-01-16       1\n",
       "\n",
       "[1352 rows x 2 columns]"
      ]
     },
     "execution_count": 373,
     "metadata": {},
     "output_type": "execute_result"
    }
   ],
   "source": [
    "temp"
   ]
  },
  {
   "cell_type": "code",
   "execution_count": 374,
   "id": "e75cb3c6",
   "metadata": {
    "scrolled": false
   },
   "outputs": [
    {
     "data": {
      "image/png": "[encoded data removed]",
      "text/plain": [
       "<Figure size 500x500 with 1 Axes>"
      ]
     },
     "metadata": {},
     "output_type": "display_data"
    }
   ],
   "source": [
    "sns.displot(data=temp, x='date_added');\n",
    "plt.title('1 year gap release vs adding by year');\n",
    "plt.xlabel('Year added');\n",
    "plt.ylabel('Movies and TV Shows');"
   ]
  },
  {
   "cell_type": "markdown",
   "id": "87e0adfe",
   "metadata": {},
   "source": [
    "*<font size='3'> Popularity of the Netflix and movie industry growth, motivates film makers to add movies to streaming platfroms right after release of the content. Thus this is the good way to attract more audience both for movie makers and for the platform to increase members. It is also became more popular with COVID quarantine, since movie theaters were closed. </font>*"
   ]
  },
  {
   "cell_type": "markdown",
   "id": "30477761",
   "metadata": {},
   "source": [
    "<font size='1'>     </font>"
   ]
  },
  {
   "cell_type": "markdown",
   "id": "9f3cc6ea",
   "metadata": {},
   "source": [
    "<font size='3'> How many romantic genre movies and TV Shows have been added by months </font>"
   ]
  },
  {
   "cell_type": "code",
   "execution_count": 302,
   "id": "5b1b641c",
   "metadata": {},
   "outputs": [],
   "source": [
    "# Adding new column to netflix dataframe, that shows 1 - if genre contains Romantic and 0 - if not\n",
    "netflix['is_romantic'] = netflix.genres.str.find('Romantic').apply(lambda x: 1 if (x>0) else 0)"
   ]
  },
  {
   "cell_type": "code",
   "execution_count": 354,
   "id": "96ac15c3",
   "metadata": {},
   "outputs": [],
   "source": [
    "romantic_content = netflix \\\n",
    "    .query('is_romantic == 1') \\\n",
    "    .groupby('month', as_index=False) \\\n",
    "    .agg({'rating': 'count'}) \\\n",
    "    .rename(columns={'rating': 'romantic_genre'}) \\\n",
    "    .sort_values('romantic_genre', ascending=False).reset_index(drop=True)"
   ]
  },
  {
   "cell_type": "code",
   "execution_count": 355,
   "id": "213fa7c7",
   "metadata": {},
   "outputs": [
    {
     "data": {
      "text/html": [
       "<div>\n",
       "<style scoped>\n",
       "    .dataframe tbody tr th:only-of-type {\n",
       "        vertical-align: middle;\n",
       "    }\n",
       "\n",
       "    .dataframe tbody tr th {\n",
       "        vertical-align: top;\n",
       "    }\n",
       "\n",
       "    .dataframe thead th {\n",
       "        text-align: right;\n",
       "    }\n",
       "</style>\n",
       "<table border=\"1\" class=\"dataframe\">\n",
       "  <thead>\n",
       "    <tr style=\"text-align: right;\">\n",
       "      <th></th>\n",
       "      <th>month</th>\n",
       "      <th>romantic_genre</th>\n",
       "    </tr>\n",
       "  </thead>\n",
       "  <tbody>\n",
       "    <tr>\n",
       "      <th>0</th>\n",
       "      <td>December</td>\n",
       "      <td>106</td>\n",
       "    </tr>\n",
       "    <tr>\n",
       "      <th>1</th>\n",
       "      <td>October</td>\n",
       "      <td>95</td>\n",
       "    </tr>\n",
       "    <tr>\n",
       "      <th>2</th>\n",
       "      <td>November</td>\n",
       "      <td>86</td>\n",
       "    </tr>\n",
       "    <tr>\n",
       "      <th>3</th>\n",
       "      <td>March</td>\n",
       "      <td>72</td>\n",
       "    </tr>\n",
       "    <tr>\n",
       "      <th>4</th>\n",
       "      <td>April</td>\n",
       "      <td>70</td>\n",
       "    </tr>\n",
       "    <tr>\n",
       "      <th>5</th>\n",
       "      <td>January</td>\n",
       "      <td>62</td>\n",
       "    </tr>\n",
       "    <tr>\n",
       "      <th>6</th>\n",
       "      <td>June</td>\n",
       "      <td>61</td>\n",
       "    </tr>\n",
       "    <tr>\n",
       "      <th>7</th>\n",
       "      <td>July</td>\n",
       "      <td>61</td>\n",
       "    </tr>\n",
       "    <tr>\n",
       "      <th>8</th>\n",
       "      <td>August</td>\n",
       "      <td>59</td>\n",
       "    </tr>\n",
       "    <tr>\n",
       "      <th>9</th>\n",
       "      <td>May</td>\n",
       "      <td>57</td>\n",
       "    </tr>\n",
       "    <tr>\n",
       "      <th>10</th>\n",
       "      <td>September</td>\n",
       "      <td>55</td>\n",
       "    </tr>\n",
       "    <tr>\n",
       "      <th>11</th>\n",
       "      <td>February</td>\n",
       "      <td>49</td>\n",
       "    </tr>\n",
       "  </tbody>\n",
       "</table>\n",
       "</div>"
      ],
      "text/plain": [
       "        month  romantic_genre\n",
       "0    December             106\n",
       "1     October              95\n",
       "2    November              86\n",
       "3       March              72\n",
       "4       April              70\n",
       "5     January              62\n",
       "6        June              61\n",
       "7        July              61\n",
       "8      August              59\n",
       "9         May              57\n",
       "10  September              55\n",
       "11   February              49"
      ]
     },
     "execution_count": 355,
     "metadata": {},
     "output_type": "execute_result"
    }
   ],
   "source": [
    "romantic_content"
   ]
  },
  {
   "cell_type": "markdown",
   "id": "ede66eb0",
   "metadata": {},
   "source": [
    "*<font size='3'> Most popular months with romantic genre content adding are December, October, November. Whis is correlating with holidays months in US. </font>*"
   ]
  },
  {
   "cell_type": "markdown",
   "id": "77b96fc7",
   "metadata": {},
   "source": [
    "### Insights"
   ]
  },
  {
   "cell_type": "markdown",
   "id": "a6765c65",
   "metadata": {},
   "source": [
    "* Data was prepared for further analysis. NaN replaced, data types matching.\n",
    "* 3 columns were added with year of adding, month name and weekday.\n",
    "* Most popular type of content is movie.\n",
    "* Movie and TV shows releases started to actively increase by 2000.\n",
    "* Content adding to the Netflix is rapidely growing\n",
    "* Most popular months of adding movies are October-January. For TV shows December.\n",
    "* US and India released most of the movies.\n",
    "* Popular ratings are TV-MA and TV-14.\n",
    "* Most of the content is added on Friday.\n",
    "* From 2016 more and more movies and TV shows are added with gap between release and adding less than 1 year."
   ]
  }
 ],
 "metadata": {
  "kernelspec": {
   "display_name": "Python 3 (ipykernel)",
   "language": "python",
   "name": "python3"
  },
  "language_info": {
   "codemirror_mode": {
    "name": "ipython",
    "version": 3
   },
   "file_extension": ".py",
   "mimetype": "text/x-python",
   "name": "python",
   "nbconvert_exporter": "python",
   "pygments_lexer": "ipython3",
   "version": "3.11.0"
  }
 },
 "nbformat": 4,
 "nbformat_minor": 5
}
